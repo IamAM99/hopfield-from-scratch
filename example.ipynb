{
 "cells": [
  {
   "cell_type": "markdown",
   "id": "ffa15043",
   "metadata": {},
   "source": [
    "# Hopfield Network Examples"
   ]
  },
  {
   "cell_type": "code",
   "execution_count": 1,
   "id": "5cce3fbe",
   "metadata": {},
   "outputs": [],
   "source": [
    "import numpy as np\n",
    "from hop import Hopfield\n",
    "from utils import read_images, img_to_pattern, perturbe, show"
   ]
  },
  {
   "cell_type": "markdown",
   "id": "4083f8ab",
   "metadata": {},
   "source": [
    "## Example 1: Pattern With Three Values"
   ]
  },
  {
   "cell_type": "code",
   "execution_count": 2,
   "id": "d43a6183",
   "metadata": {},
   "outputs": [],
   "source": [
    "# Input Patterns\n",
    "p1 = np.array([[1, 1, -1]]).T\n",
    "p2 = np.array([[1, -1, -1]]).T\n",
    "P = np.hstack((p1, p2))"
   ]
  },
  {
   "cell_type": "code",
   "execution_count": 3,
   "id": "50e974ce",
   "metadata": {},
   "outputs": [
    {
     "name": "stdout",
     "output_type": "stream",
     "text": [
      "===================================================================\n",
      "Pattern is no longer improving. Returning the last updated pattern.\n",
      "===================================================================\n",
      "\n",
      "Weight Matrix:\n",
      "[[ 0.  0. -2.]\n",
      " [ 0.  0.  0.]\n",
      " [-2.  0.  0.]]\n"
     ]
    }
   ],
   "source": [
    "# Hopfield Network\n",
    "hop = Hopfield(P)\n",
    "v = np.array([[-1, 1, 1]]).T\n",
    "output = hop.predict(v)\n",
    "print(f\"Weight Matrix:\\n{hop.W}\")"
   ]
  },
  {
   "cell_type": "code",
   "execution_count": 4,
   "id": "5a12cd78",
   "metadata": {},
   "outputs": [
    {
     "name": "stdout",
     "output_type": "stream",
     "text": [
      "Saved Patterns: \n",
      "[[ 1  1 -1]\n",
      " [ 1 -1 -1]]\n",
      "-------------------------\n",
      "Input: [[-1  1  1]]\n",
      "Output: [[-1  1  1]]\n"
     ]
    }
   ],
   "source": [
    "# Results\n",
    "print(\"Saved Patterns: \", P.T, sep='\\n', end=('\\n' + '-'*25 + '\\n'))\n",
    "print(f\"Input: {v.T}\", f\"Output: {output.T}\", sep='\\n')"
   ]
  },
  {
   "cell_type": "markdown",
   "id": "43412211",
   "metadata": {},
   "source": [
    "## Example 2: Pattern With Four Values"
   ]
  },
  {
   "cell_type": "code",
   "execution_count": 5,
   "id": "5a87cc94",
   "metadata": {},
   "outputs": [],
   "source": [
    "# Input Patterns\n",
    "p1 = np.array([[-1, -1, -1, -1]]).T\n",
    "p2 = np.array([[1, 1, 1, 1]]).T\n",
    "P = np.hstack((p1, p2))"
   ]
  },
  {
   "cell_type": "code",
   "execution_count": 6,
   "id": "74cda0b2",
   "metadata": {},
   "outputs": [
    {
     "name": "stdout",
     "output_type": "stream",
     "text": [
      "===================================================================\n",
      "Pattern is no longer improving. Returning the last updated pattern.\n",
      "===================================================================\n",
      "\n",
      "Weight Matrix:\n",
      "[[0. 2. 2. 2.]\n",
      " [2. 0. 2. 2.]\n",
      " [2. 2. 0. 2.]\n",
      " [2. 2. 2. 0.]]\n"
     ]
    }
   ],
   "source": [
    "# Hopfield Network\n",
    "hop = Hopfield(P)\n",
    "v = np.array([[-1, 1, 1, 1]]).T\n",
    "output = hop.predict(v)\n",
    "print(f\"Weight Matrix:\\n{hop.W}\")"
   ]
  },
  {
   "cell_type": "code",
   "execution_count": 7,
   "id": "4a77476f",
   "metadata": {},
   "outputs": [
    {
     "name": "stdout",
     "output_type": "stream",
     "text": [
      "Saved Patterns: \n",
      "[[-1 -1 -1 -1]\n",
      " [ 1  1  1  1]]\n",
      "-------------------------\n",
      "Input: [[-1  1  1  1]]\n",
      "Output: [[1 1 1 1]]\n"
     ]
    }
   ],
   "source": [
    "# Results\n",
    "print(\"Saved Patterns: \", P.T, sep='\\n', end=('\\n' + '-'*25 + '\\n'))\n",
    "print(f\"Input: {v.T}\", f\"Output: {output.T}\", sep='\\n')"
   ]
  },
  {
   "cell_type": "code",
   "execution_count": 8,
   "id": "a65b9010",
   "metadata": {},
   "outputs": [
    {
     "name": "stdout",
     "output_type": "stream",
     "text": [
      "==========================================================\n",
      "Reached a limit cycle. Returning the last updated pattern.\n",
      "==========================================================\n",
      "\n",
      "Input: [[-1 -1  1  1]]\n",
      "Output: [[-1 -1  1  1]]\n"
     ]
    }
   ],
   "source": [
    "# Limit Cycle\n",
    "v = np.array([[-1, -1, 1, 1]]).T\n",
    "output = hop.predict(v)\n",
    "print(f\"Input: {v.T}\", f\"Output: {output.T}\", sep='\\n')"
   ]
  },
  {
   "cell_type": "markdown",
   "id": "6c770207",
   "metadata": {},
   "source": [
    "## Example 3: Persian Characters"
   ]
  },
  {
   "cell_type": "code",
   "execution_count": 16,
   "id": "d4b76a65",
   "metadata": {},
   "outputs": [
    {
     "data": {
      "image/png": "[encoded data removed]",
      "text/plain": [
       "<Figure size 432x288 with 1 Axes>"
      ]
     },
     "metadata": {
      "needs_background": "light"
     },
     "output_type": "display_data"
    },
    {
     "data": {
      "image/png": "[encoded data removed]",
      "text/plain": [
       "<Figure size 432x288 with 1 Axes>"
      ]
     },
     "metadata": {
      "needs_background": "light"
     },
     "output_type": "display_data"
    }
   ],
   "source": [
    "# Input Images\n",
    "images = read_images('./images/*.png')\n",
    "P = img_to_pattern(images)\n",
    "show(P.T[0], \"Input 'ش' Character\")\n",
    "show(P.T[1], \"Input 'س' Character\")"
   ]
  },
  {
   "cell_type": "code",
   "execution_count": 10,
   "id": "2e711d96",
   "metadata": {},
   "outputs": [],
   "source": [
    "# Adding Noise\n",
    "p1 = perturbe(P.T[0], alpha=0.4)\n",
    "p2 = perturbe(P.T[1], alpha=0.4)"
   ]
  },
  {
   "cell_type": "code",
   "execution_count": 11,
   "id": "6072e775",
   "metadata": {},
   "outputs": [
    {
     "name": "stdout",
     "output_type": "stream",
     "text": [
      "=========================================================================\n",
      "Maximum number of iterations reached. Returning the last updated pattern.\n",
      "=========================================================================\n",
      "\n",
      "=========================================================================\n",
      "Maximum number of iterations reached. Returning the last updated pattern.\n",
      "=========================================================================\n",
      "\n"
     ]
    }
   ],
   "source": [
    "# Hopfield Network\n",
    "hop = Hopfield(P)\n",
    "output1 = hop.predict(p1, update_type='async', iterations=400)\n",
    "output2 = hop.predict(p2, update_type='async', iterations=400)"
   ]
  },
  {
   "cell_type": "code",
   "execution_count": 17,
   "id": "4b9a983e",
   "metadata": {},
   "outputs": [
    {
     "data": {
      "image/png": "[encoded data removed]",
      "text/plain": [
       "<Figure size 432x288 with 1 Axes>"
      ]
     },
     "metadata": {
      "needs_background": "light"
     },
     "output_type": "display_data"
    },
    {
     "data": {
      "image/png": "[encoded data removed]",
      "text/plain": [
       "<Figure size 432x288 with 1 Axes>"
      ]
     },
     "metadata": {
      "needs_background": "light"
     },
     "output_type": "display_data"
    },
    {
     "data": {
      "image/png": "[encoded data removed]",
      "text/plain": [
       "<Figure size 432x288 with 1 Axes>"
      ]
     },
     "metadata": {
      "needs_background": "light"
     },
     "output_type": "display_data"
    },
    {
     "data": {
      "image/png": "[encoded data removed]",
      "text/plain": [
       "<Figure size 432x288 with 1 Axes>"
      ]
     },
     "metadata": {
      "needs_background": "light"
     },
     "output_type": "display_data"
    }
   ],
   "source": [
    "# Results\n",
    "show(p1, \"Noisy 'ش' Character\")\n",
    "show(output1, \"Recovered 'ش' Character\")\n",
    "show(p2, \"Noisy 'س' Character\")\n",
    "show(output2, \"Recovered 'س' Character\")"
   ]
  }
 ],
 "metadata": {
  "kernelspec": {
   "display_name": "Python 3 (ipykernel)",
   "language": "python",
   "name": "python3"
  },
  "language_info": {
   "codemirror_mode": {
    "name": "ipython",
    "version": 3
   },
   "file_extension": ".py",
   "mimetype": "text/x-python",
   "name": "python",
   "nbconvert_exporter": "python",
   "pygments_lexer": "ipython3",
   "version": "3.7.11"
  }
 },
 "nbformat": 4,
 "nbformat_minor": 5
}
